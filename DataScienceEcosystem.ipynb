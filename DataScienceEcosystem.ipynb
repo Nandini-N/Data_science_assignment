{
 "cells": [
  {
   "cell_type": "markdown",
   "id": "dbed807b-ab82-4943-920e-84e3f0dfb5da",
   "metadata": {},
   "source": [
    "<h1>Data Science Tools and Ecosystem<h1>"
   ]
  },
  {
   "cell_type": "markdown",
   "id": "aad6ffe7-ce5e-466e-8ca1-832e7d3df5d7",
   "metadata": {},
   "source": [
    "In this notebook, Data Science Tools and Ecosystem are summarized"
   ]
  },
  {
   "cell_type": "markdown",
   "id": "c2016453-6db3-4581-85b1-a5af9bf7d343",
   "metadata": {},
   "source": [
    "<b>Objectives:<b>\n",
    "    <ul>\n",
    "    <li>Python</li>\n",
    "    <li>R</li>\n",
    "    <li>SQL</li>\n",
    "    </ul>"
   ]
  },
  {
   "cell_type": "markdown",
   "id": "6ab0c196-4424-436d-9199-a5449fb6124a",
   "metadata": {},
   "source": [
    "Some of the popular languages that Data Scientists use are:\n",
    "<ol>\n",
    "    <li>Python</li>\n",
    "    <li>R</li>\n",
    "    <li>SQL</li>\n",
    "    </ol>"
   ]
  },
  {
   "cell_type": "markdown",
   "id": "38f6ec81-b00f-4cf5-bd6b-88e009714df0",
   "metadata": {},
   "source": [
    "Some of the commonly used libraries used by Data Scientists include:\n",
    "    <ol>\n",
    "    <li>SciPy</li>\n",
    "    <li>Pandas</li>\n",
    "    <li>Matplotlib</li>\n",
    "    </ol>"
   ]
  },
  {
   "cell_type": "markdown",
   "id": "63b86c1a-e2ab-4a17-90c0-2568a1489431",
   "metadata": {
    "tags": []
   },
   "source": [
    "| Data Science Tools |\n",
    "| --- |\n",
    "| RStudio |\n",
    "| Visual Studio Code |\n",
    "| JupyterLab |"
   ]
  },
  {
   "cell_type": "markdown",
   "id": "d2eb4b41-f4cb-48aa-9dc9-719e44cb646a",
   "metadata": {
    "tags": []
   },
   "source": [
    "<h3>Below are a few examples of evaluating arithmetic expressions in Python.<h3>"
   ]
  },
  {
   "cell_type": "code",
   "execution_count": 4,
   "id": "d4cfc404-d1c5-4e4c-8437-4de361cea1c1",
   "metadata": {
    "tags": []
   },
   "outputs": [
    {
     "data": {
      "text/plain": [
       "17"
      ]
     },
     "execution_count": 4,
     "metadata": {},
     "output_type": "execute_result"
    }
   ],
   "source": [
    "# This a simple arithmetic expression to mutiply then add integers\n",
    "(3*4)+5"
   ]
  },
  {
   "cell_type": "code",
   "execution_count": 6,
   "id": "4ed7c6b4-9b57-448c-8972-e5e50f4dde7a",
   "metadata": {
    "tags": []
   },
   "outputs": [
    {
     "data": {
      "text/plain": [
       "3.3333333333333335"
      ]
     },
     "execution_count": 6,
     "metadata": {},
     "output_type": "execute_result"
    }
   ],
   "source": [
    "#  This will convert 200 minutes to hours by diving by 60\n",
    "200/60"
   ]
  },
  {
   "cell_type": "markdown",
   "id": "f077f7bb-cbad-4de3-83cf-22801d610c52",
   "metadata": {},
   "source": [
    "<h2>Author<h2>\n",
    "    \n",
    "Nandini N"
   ]
  },
  {
   "cell_type": "code",
   "execution_count": null,
   "id": "26d8214a-651e-42fc-ae33-8d0f8b3928fb",
   "metadata": {},
   "outputs": [],
   "source": []
  }
 ],
 "metadata": {
  "kernelspec": {
   "display_name": "Python",
   "language": "python",
   "name": "conda-env-python-py"
  },
  "language_info": {
   "codemirror_mode": {
    "name": "ipython",
    "version": 3
   },
   "file_extension": ".py",
   "mimetype": "text/x-python",
   "name": "python",
   "nbconvert_exporter": "python",
   "pygments_lexer": "ipython3",
   "version": "3.7.12"
  }
 },
 "nbformat": 4,
 "nbformat_minor": 5
}
